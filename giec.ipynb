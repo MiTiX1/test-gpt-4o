{
 "cells": [
  {
   "cell_type": "code",
   "execution_count": 33,
   "metadata": {},
   "outputs": [],
   "source": [
    "# %pip install --upgrade openai"
   ]
  },
  {
   "cell_type": "code",
   "execution_count": 12,
   "metadata": {},
   "outputs": [],
   "source": [
    "from dotenv import load_dotenv\n",
    "load_dotenv()\n",
    "\n",
    "import os\n",
    "from openai import OpenAI\n",
    "from gpt import (\n",
    "    create_file_search_assistant,\n",
    "    upload_file_to_vectore_store,\n",
    "    assistant_use_vector_store,\n",
    "    create_thread,\n",
    ")"
   ]
  },
  {
   "cell_type": "code",
   "execution_count": 13,
   "metadata": {},
   "outputs": [],
   "source": [
    "MODEL = \"gpt-4o\"\n",
    "FILE = \"giec.pdf\"\n",
    "client = OpenAI(\n",
    "    api_key=os.environ.get(\"API_KEY\")\n",
    ")"
   ]
  },
  {
   "cell_type": "code",
   "execution_count": 14,
   "metadata": {},
   "outputs": [
    {
     "name": "stdout",
     "output_type": "stream",
     "text": [
      "create_file_search_assistant took 0.46157050132751465 seconds\n"
     ]
    }
   ],
   "source": [
    "assistant = create_file_search_assistant(\n",
    "    client=client,\n",
    "    model=MODEL,\n",
    "    assistant_name=\"Environment Analyst Assistant\",\n",
    "    instructions=\"You are an environment expert analyst. Use you knowledge base to extract and summarize information about audited environment documents\",\n",
    ")"
   ]
  },
  {
   "cell_type": "code",
   "execution_count": 15,
   "metadata": {},
   "outputs": [
    {
     "name": "stdout",
     "output_type": "stream",
     "text": [
      "completed\n",
      "FileCounts(cancelled=0, completed=1, failed=0, in_progress=0, total=1)\n",
      "upload_file_to_vectore_store took 7.98323917388916 seconds\n"
     ]
    }
   ],
   "source": [
    "vector_store = upload_file_to_vectore_store(\n",
    "    client=client,\n",
    "    vector_store_name=\"Environment Reports\",\n",
    "    file_paths=[FILE],\n",
    ")"
   ]
  },
  {
   "cell_type": "code",
   "execution_count": 16,
   "metadata": {},
   "outputs": [
    {
     "name": "stdout",
     "output_type": "stream",
     "text": [
      "assistant_use_vector_store took 0.36090874671936035 seconds\n"
     ]
    }
   ],
   "source": [
    "assistant = assistant_use_vector_store(\n",
    "    client=client,\n",
    "    assistant=assistant,\n",
    "    vector_store=vector_store,\n",
    ")"
   ]
  },
  {
   "cell_type": "code",
   "execution_count": 17,
   "metadata": {},
   "outputs": [
    {
     "name": "stdout",
     "output_type": "stream",
     "text": [
      "None\n",
      "create_thread took 0.22078442573547363 seconds\n"
     ]
    }
   ],
   "source": [
    "thread = create_thread(\n",
    "    client=client,\n",
    "    message_content=\"Make a short summary with the key points of the document\",\n",
    ")"
   ]
  },
  {
   "cell_type": "code",
   "execution_count": 18,
   "metadata": {},
   "outputs": [
    {
     "name": "stdout",
     "output_type": "stream",
     "text": [
      "The document is a special report by the Intergovernmental Panel on Climate Change (IPCC) concerning the impacts of global warming of 1.5°C above pre-industrial levels and related global greenhouse gas emission pathways. Here are the key points:\n",
      "\n",
      "1. **Scope and Purpose**:\n",
      "   - The report was organized in response to an invitation by the Conference of the Parties (COP) to the United Nations Framework Convention on Climate Change (UNFCCC) as part of the Paris Agreement. It assesses the impacts of 1.5°C of global warming and the associated emission trajectories necessary to achieve this target[0].\n",
      "\n",
      "2. **Report Structure**:\n",
      "   - The report consists of a Summary for Policymakers, Technical Summary, five chapters, and supplementary online materials. The chapters cover the evaluation methods, current climate system status, impacts and risks of 1.5°C warming, global and socio-economic transitions required, and the links with sustainable development and poverty eradication[0][2].\n",
      "\n",
      "3. **Emission Pathways**:\n",
      "   - Limiting warming to 1.5°C requires removing 100-1000 gigatonnes of CO2 over the 21st century. Various CO2 removal strategies include reforestation, soil restoration, and carbon capture and storage, among others[3].\n",
      "\n",
      "4. **Global and Regional Impacts**:\n",
      "   - Risks associated with a 1.5°C rise are notably lower than at 2°C. This includes lesser risks of species extinction, reduced impacts on biodiversity and ecosystems, and mitigated effects on human health, agriculture, and economies. Some specific ecosystems like coral reefs and Arctic regions will still be significantly impacted[4][5][6].\n",
      "\n",
      "5. **Land Use and Food Security**:\n",
      "   - Land-use changes are critical in most mitigation pathways, potentially impacting food security and biodiversity. Techniques like bioenergy with carbon capture and storage (BECCS) and reforestation will be necessary but must be managed carefully to avoid negative impacts on ecosystems and agriculture[7][8].\n",
      "\n",
      "6. **Mitigation Measures**:\n",
      "   - To achieve the 1.5°C target, significant mitigation efforts are required across various sectors: energy production must shift towards low or zero-emission sources, transport should be electrified, urban planning should emphasize energy efficiency, and dietary changes should reduce reliance on land-intensive animal products[9][10].\n",
      "\n",
      "7. **Economic and Social Feasibility**:\n",
      "   - Achieving these transitions requires substantial investment in low-emission infrastructure and technologies. A systemic approach involving all stakeholders is essential for success. Economic, social, and institutional factors play a crucial role in the feasibility and success of these measures[11][12].\n",
      "\n",
      "8. **Sustainable Development and Poverty Eradication**:\n",
      "   - Measures to limit warming to 1.5°C also promote sustainable development and reduce poverty. However, some trade-offs and compromises are inevitable. Policies should aim to create synergies between climate action and sustainable development goals (SDGs)[13][14].\n",
      "\n",
      "In summary, the report emphasizes that limiting global warming to 1.5°C is possible but requires immediate, ambitious, and coordinated actions across multiple sectors to mitigate impacts on climates, ecosystems, and human societies.\n",
      "==================================================\n",
      "[0] giec.pdf\n",
      "[1] giec.pdf\n",
      "[2] giec.pdf\n",
      "[3] giec.pdf\n",
      "[4] giec.pdf\n",
      "[5] giec.pdf\n",
      "[6] giec.pdf\n",
      "[7] giec.pdf\n",
      "[8] giec.pdf\n",
      "[9] giec.pdf\n",
      "[10] giec.pdf\n",
      "[11] giec.pdf\n",
      "[12] giec.pdf\n",
      "[13] giec.pdf\n",
      "[14] giec.pdf\n"
     ]
    }
   ],
   "source": [
    "run = client.beta.threads.runs.create_and_poll(\n",
    "    thread_id=thread.id, assistant_id=assistant.id\n",
    ")\n",
    "\n",
    "messages = list(client.beta.threads.messages.list(thread_id=thread.id, run_id=run.id))\n",
    "\n",
    "message_content = messages[0].content[0].text\n",
    "annotations = message_content.annotations\n",
    "citations = []\n",
    "for index, annotation in enumerate(annotations):\n",
    "    message_content.value = message_content.value.replace(annotation.text, f\"[{index}]\")\n",
    "    if file_citation := getattr(annotation, \"file_citation\", None):\n",
    "        cited_file = client.files.retrieve(file_citation.file_id)\n",
    "        citations.append(f\"[{index}] {cited_file.filename}\")\n",
    "\n",
    "print(message_content.value)\n",
    "print(\"=\"*50)\n",
    "print(\"\\n\".join(citations))"
   ]
  }
 ],
 "metadata": {
  "kernelspec": {
   "display_name": "Python 3",
   "language": "python",
   "name": "python3"
  },
  "language_info": {
   "codemirror_mode": {
    "name": "ipython",
    "version": 3
   },
   "file_extension": ".py",
   "mimetype": "text/x-python",
   "name": "python",
   "nbconvert_exporter": "python",
   "pygments_lexer": "ipython3",
   "version": "3.10.11"
  }
 },
 "nbformat": 4,
 "nbformat_minor": 2
}
