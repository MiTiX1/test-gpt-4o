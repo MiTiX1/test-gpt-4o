{
 "cells": [
  {
   "cell_type": "code",
   "execution_count": 33,
   "metadata": {},
   "outputs": [],
   "source": [
    "# %pip install --upgrade openai"
   ]
  },
  {
   "cell_type": "code",
   "execution_count": 17,
   "metadata": {},
   "outputs": [],
   "source": [
    "from dotenv import load_dotenv\n",
    "load_dotenv()\n",
    "\n",
    "import os\n",
    "from openai import OpenAI\n",
    "from gpt import (\n",
    "    create_file_search_assistant,\n",
    "    upload_file_to_vectore_store,\n",
    "    assistant_use_vector_store,\n",
    "    create_thread,\n",
    ")"
   ]
  },
  {
   "cell_type": "code",
   "execution_count": 18,
   "metadata": {},
   "outputs": [],
   "source": [
    "MODEL = \"gpt-4o\"\n",
    "FILE = \"thales_t1.pdf\"\n",
    "client = OpenAI(\n",
    "    api_key=os.environ.get(\"API_KEY\")\n",
    ")"
   ]
  },
  {
   "cell_type": "code",
   "execution_count": 19,
   "metadata": {},
   "outputs": [
    {
     "name": "stdout",
     "output_type": "stream",
     "text": [
      "create_file_search_assistant took 0.6110286712646484 seconds\n"
     ]
    }
   ],
   "source": [
    "assistant = create_file_search_assistant(\n",
    "    client=client,\n",
    "    model=MODEL,\n",
    "    assistant_name=\"Financial Analyst Assistant\",\n",
    "    instructions=\"You are an expert financial & sales analyst. Use you knowledge base to extract and summarize information about audited financial statements\",\n",
    ")"
   ]
  },
  {
   "cell_type": "code",
   "execution_count": 20,
   "metadata": {},
   "outputs": [
    {
     "name": "stdout",
     "output_type": "stream",
     "text": [
      "completed\n",
      "FileCounts(cancelled=0, completed=1, failed=0, in_progress=0, total=1)\n",
      "upload_file_to_vectore_store took 3.3434910774230957 seconds\n"
     ]
    }
   ],
   "source": [
    "vector_store = upload_file_to_vectore_store(\n",
    "    client=client,\n",
    "    vector_store_name=\"Financial Statements\",\n",
    "    file_paths=[FILE],\n",
    ")"
   ]
  },
  {
   "cell_type": "code",
   "execution_count": 21,
   "metadata": {},
   "outputs": [
    {
     "name": "stdout",
     "output_type": "stream",
     "text": [
      "assistant_use_vector_store took 0.3343784809112549 seconds\n"
     ]
    }
   ],
   "source": [
    "assistant = assistant_use_vector_store(\n",
    "    client=client,\n",
    "    assistant=assistant,\n",
    "    vector_store=vector_store,\n",
    ")"
   ]
  },
  {
   "cell_type": "code",
   "execution_count": 22,
   "metadata": {},
   "outputs": [
    {
     "name": "stdout",
     "output_type": "stream",
     "text": [
      "None\n",
      "create_thread took 0.30292797088623047 seconds\n"
     ]
    }
   ],
   "source": [
    "thread = create_thread(\n",
    "    client=client,\n",
    "    message_content=\"What are the revenues by sector on the first quarter of 2024 and how does it compare to the first quarter of 2023\",\n",
    ")"
   ]
  },
  {
   "cell_type": "code",
   "execution_count": 23,
   "metadata": {},
   "outputs": [
    {
     "name": "stdout",
     "output_type": "stream",
     "text": [
      "### Revenue Comparison by Sector: Q1 2024 vs Q1 2023\n",
      "\n",
      "The revenue of Thales for Q1 2024 is classified into several sectors, and the comparison with Q1 2023 is as follows:\n",
      "\n",
      "#### Aerospace\n",
      "- **Q1 2024:** €1,182 million\n",
      "- **Q1 2023:** €1,156 million\n",
      "- **Change:** +2.3% (Published), +5.1% (Organic)\n",
      "\n",
      "#### Defense & Security\n",
      "- **Q1 2024:** €2,305 million\n",
      "- **Q1 2023:** €2,037 million\n",
      "- **Change:** +13.1% (Published), +13.4% (Organic)\n",
      "\n",
      "#### Digital Identity & Security\n",
      "- **Q1 2024:** €916 million\n",
      "- **Q1 2023:** €818 million\n",
      "- **Change:** +12.0% (Published), -2.5% (Organic)**\n",
      "\n",
      "#### Others\n",
      "- **Q1 2024:** €18 million\n",
      "- **Q1 2023:** €15 million\n",
      "- **Change:** Not Specified (NS)\n",
      "\n",
      "#### Total Revenue\n",
      "- **Q1 2024:** €4,421 million\n",
      "- **Q1 2023:** €4,026 million\n",
      "- **Change:** +9.8% (Published), +7.9% (Organic)\n",
      "\n",
      "### Summary\n",
      "\n",
      "- **Aerospace** experienced moderate growth mainly driven by the aviation sector.\n",
      "- **Defense & Security** saw significant growth largely due to increased orders and favorable market conditions.\n",
      "- **Digital Identity & Security** showed a mixed result with a decline in organic growth, although published figures were positive due to acquisitions.\n",
      "- **Other Revenues** also saw an increase, although specific details are ltd.\n",
      "\n",
      "The overall performance showcased a robust increase in revenues across most sectors, confirming the company's strategic directions and operational strengths.\n",
      "\n",
      "### Geographical Performance\n",
      "- **Mature Markets:** €3,515 million, +9.9% (Published), +8.1% (Organic)\n",
      "- **Emerging Markets:** €907 million, +9.4% (Published), +7.0% (Organic)\n",
      "\n",
      "The growth is driven by strong performance in mature markets like France, the UK, and Australia, combined with healthy gains in emerging markets.\n",
      "\n",
      "These figures indicate a solid growth trajectory for Thales, driven by significant advancements in defense activities, sustained aerospace dynamics, and strategic acquisitions in digital identity and security.\n",
      "\n",
      "     \n",
      "==================================================\n",
      "\n"
     ]
    }
   ],
   "source": [
    "run = client.beta.threads.runs.create_and_poll(\n",
    "    thread_id=thread.id, assistant_id=assistant.id\n",
    ")\n",
    "\n",
    "messages = list(client.beta.threads.messages.list(thread_id=thread.id, run_id=run.id))\n",
    "\n",
    "message_content = messages[0].content[0].text\n",
    "annotations = message_content.annotations\n",
    "citations = []\n",
    "for index, annotation in enumerate(annotations):\n",
    "    message_content.value = message_content.value.replace(annotation.text, f\"[{index}]\")\n",
    "    if file_citation := getattr(annotation, \"file_citation\", None):\n",
    "        cited_file = client.files.retrieve(file_citation.file_id)\n",
    "        citations.append(f\"[{index}] {cited_file.filename}\")\n",
    "\n",
    "print(message_content.value)\n",
    "print(\"=\"*50)\n",
    "print(\"\\n\".join(citations))"
   ]
  }
 ],
 "metadata": {
  "kernelspec": {
   "display_name": "Python 3",
   "language": "python",
   "name": "python3"
  },
  "language_info": {
   "codemirror_mode": {
    "name": "ipython",
    "version": 3
   },
   "file_extension": ".py",
   "mimetype": "text/x-python",
   "name": "python",
   "nbconvert_exporter": "python",
   "pygments_lexer": "ipython3",
   "version": "3.12.2"
  }
 },
 "nbformat": 4,
 "nbformat_minor": 2
}
